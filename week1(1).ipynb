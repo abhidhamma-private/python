{
  "nbformat": 4,
  "nbformat_minor": 0,
  "metadata": {
    "colab": {
      "name": "week1(1).ipynb",
      "provenance": [],
      "authorship_tag": "ABX9TyMCf2TxzhCg59O4g0ocSUK2",
      "include_colab_link": true
    },
    "kernelspec": {
      "name": "python3",
      "display_name": "Python 3"
    }
  },
  "cells": [
    {
      "cell_type": "markdown",
      "metadata": {
        "id": "view-in-github",
        "colab_type": "text"
      },
      "source": [
        "<a href=\"https://colab.research.google.com/github/abhidhamma/python/blob/master/week1(1).ipynb\" target=\"_parent\"><img src=\"https://colab.research.google.com/assets/colab-badge.svg\" alt=\"Open In Colab\"/></a>"
      ]
    },
    {
      "cell_type": "markdown",
      "metadata": {
        "id": "oFpgxtBRsUGl",
        "colab_type": "text"
      },
      "source": [
        "**Python Functions**\n"
      ]
    },
    {
      "cell_type": "code",
      "metadata": {
        "id": "UgfxWIhcDU_P",
        "colab_type": "code",
        "colab": {
          "base_uri": "https://localhost:8080/",
          "height": 35
        },
        "outputId": "cefa1e48-f8a6-45ed-c09d-27dea94795bb"
      },
      "source": [
        "x = 1\n",
        "y = 2\n",
        "x + y"
      ],
      "execution_count": 1,
      "outputs": [
        {
          "output_type": "execute_result",
          "data": {
            "text/plain": [
              "3"
            ]
          },
          "metadata": {
            "tags": []
          },
          "execution_count": 1
        }
      ]
    },
    {
      "cell_type": "markdown",
      "metadata": {
        "id": "k78JuDpTq6Jp",
        "colab_type": "text"
      },
      "source": [
        "선언의 결과값은 즉시 출력된다."
      ]
    },
    {
      "cell_type": "code",
      "metadata": {
        "id": "FbyPfOmJqgsw",
        "colab_type": "code",
        "colab": {
          "base_uri": "https://localhost:8080/",
          "height": 35
        },
        "outputId": "b4f79baa-3536-412a-c404-c1ce03d672b3"
      },
      "source": [
        "x"
      ],
      "execution_count": 2,
      "outputs": [
        {
          "output_type": "execute_result",
          "data": {
            "text/plain": [
              "1"
            ]
          },
          "metadata": {
            "tags": []
          },
          "execution_count": 2
        }
      ]
    },
    {
      "cell_type": "markdown",
      "metadata": {
        "id": "wF4eIoDyqphf",
        "colab_type": "text"
      },
      "source": [
        "다른셀에 출력해도 변수가 남아있다.\n",
        "\n",
        "또한 재시작 및 모두실행 함수는 인터프리터의 상태를 모두 지우고,\n",
        "\n",
        "주피터노트북의 모든 셀을 다시 실행한다.\n"
      ]
    },
    {
      "cell_type": "code",
      "metadata": {
        "id": "u9fc8m9bqj_A",
        "colab_type": "code",
        "colab": {
          "base_uri": "https://localhost:8080/",
          "height": 35
        },
        "outputId": "e8f1db65-3112-413c-e4bf-ce34450d7534"
      },
      "source": [
        "def add_numbers(x,y):\n",
        "  return x+y\n",
        "\n",
        "add_numbers(1,2)"
      ],
      "execution_count": 4,
      "outputs": [
        {
          "output_type": "execute_result",
          "data": {
            "text/plain": [
              "3"
            ]
          },
          "metadata": {
            "tags": []
          },
          "execution_count": 4
        }
      ]
    },
    {
      "cell_type": "markdown",
      "metadata": {
        "id": "gQwpP5wbrxj0",
        "colab_type": "text"
      },
      "source": [
        "첫쨰 파이썬은 리턴 타입이 없다\n",
        "\n",
        "둘째 None이라는 값이 있어서 리턴을 안해도 된다\n",
        "\n",
        "셋째 파이썬은 각 매개변수의 기본값을 지정할 수 있다\n",
        "\n"
      ]
    },
    {
      "cell_type": "code",
      "metadata": {
        "id": "mvvGA7cVrsJg",
        "colab_type": "code",
        "colab": {
          "base_uri": "https://localhost:8080/",
          "height": 53
        },
        "outputId": "46bcc184-1e19-4b2c-e551-ed82d5ef181f"
      },
      "source": [
        "def add_numbers(x, y, z=None):\n",
        "  if(z == None):\n",
        "    return x+y\n",
        "  else:\n",
        "    return x+ y +z\n",
        "\n",
        "print(add_numbers(1,2))\n",
        "print(add_numbers(1,2,3))"
      ],
      "execution_count": 5,
      "outputs": [
        {
          "output_type": "stream",
          "text": [
            "3\n",
            "6\n"
          ],
          "name": "stdout"
        }
      ]
    },
    {
      "cell_type": "markdown",
      "metadata": {
        "id": "2Gf-Jej7sn1Z",
        "colab_type": "text"
      },
      "source": [
        "모든 기본값을 정한 매개변수는 함수 선언의 가장 뒤에 와야한다\n",
        "\n",
        "이런방식은 대화형에서는 잘 사용하지 않지만 \n",
        "\n",
        "하나의 셀에서 여러 값을 출력하고 싶을때 유용하다"
      ]
    },
    {
      "cell_type": "code",
      "metadata": {
        "id": "xdYa9uEuro6R",
        "colab_type": "code",
        "colab": {
          "base_uri": "https://localhost:8080/",
          "height": 53
        },
        "outputId": "dedccea0-a7a5-4e97-bea2-2de54c6f7351"
      },
      "source": [
        "def add_numbers(x, y, z=None, flag=False):\n",
        "  if(flag):\n",
        "    print('Flag is true!')\n",
        "  if(z==None):\n",
        "    return x+y\n",
        "  else:\n",
        "    return x + y +z\n",
        "print(add_numbers(1,3,flag=True))"
      ],
      "execution_count": 8,
      "outputs": [
        {
          "output_type": "stream",
          "text": [
            "Flag is true!\n",
            "4\n"
          ],
          "name": "stdout"
        }
      ]
    },
    {
      "cell_type": "code",
      "metadata": {
        "id": "I0HRy0xMusaq",
        "colab_type": "code",
        "colab": {}
      },
      "source": [
        "def add_numbers(x,y):\n",
        "  return x + y;\n",
        "\n",
        "a = add_numbers\n",
        "a(1,2)"
      ],
      "execution_count": 0,
      "outputs": []
    },
    {
      "cell_type": "markdown",
      "metadata": {
        "id": "mrmijwJMuWRs",
        "colab_type": "text"
      },
      "source": [
        "마지막 \n",
        "\n",
        "파이선에서는 함수에 변수를 할당할 수 있다\n",
        "\n",
        "변수를 함수에 할당함으로써, \n",
        "\n",
        "그 변수를 다른 함수들에게 전해주는것을 통해\n",
        "\n",
        "기초적인 함수형 프로그래밍을 허용할 수 있다\n",
        "\n",
        "\n",
        "\n",
        "\n"
      ]
    },
    {
      "cell_type": "markdown",
      "metadata": {
        "id": "AohL2Oo1xEIY",
        "colab_type": "text"
      },
      "source": [
        "**Python Types and Sequences**"
      ]
    },
    {
      "cell_type": "markdown",
      "metadata": {
        "id": "GdqsxcpbxRoG",
        "colab_type": "text"
      },
      "source": [
        "파이선에 정적타이핑이 없다는것은 타입이 없다는 뜻이 아니다\n",
        "\n",
        "파이선 언어는 type이라는 함수가 내장되어있다."
      ]
    },
    {
      "cell_type": "code",
      "metadata": {
        "id": "lXsGEwbDxIHQ",
        "colab_type": "code",
        "colab": {
          "base_uri": "https://localhost:8080/",
          "height": 35
        },
        "outputId": "36be3cec-56b5-4d85-afac-d6be221d5caa"
      },
      "source": [
        "type(\"This is String\")"
      ],
      "execution_count": 9,
      "outputs": [
        {
          "output_type": "execute_result",
          "data": {
            "text/plain": [
              "str"
            ]
          },
          "metadata": {
            "tags": []
          },
          "execution_count": 9
        }
      ]
    },
    {
      "cell_type": "code",
      "metadata": {
        "id": "pCxrVdLWxi85",
        "colab_type": "code",
        "colab": {
          "base_uri": "https://localhost:8080/",
          "height": 35
        },
        "outputId": "c3ba528e-b100-43d3-bcb2-c95f612f62f7"
      },
      "source": [
        "type(None)"
      ],
      "execution_count": 10,
      "outputs": [
        {
          "output_type": "execute_result",
          "data": {
            "text/plain": [
              "NoneType"
            ]
          },
          "metadata": {
            "tags": []
          },
          "execution_count": 10
        }
      ]
    },
    {
      "cell_type": "code",
      "metadata": {
        "id": "nhNUt7D7xkbZ",
        "colab_type": "code",
        "colab": {
          "base_uri": "https://localhost:8080/",
          "height": 35
        },
        "outputId": "86db1044-1706-4bdd-9f74-5caf61248fc2"
      },
      "source": [
        "type(1)"
      ],
      "execution_count": 11,
      "outputs": [
        {
          "output_type": "execute_result",
          "data": {
            "text/plain": [
              "int"
            ]
          },
          "metadata": {
            "tags": []
          },
          "execution_count": 11
        }
      ]
    },
    {
      "cell_type": "code",
      "metadata": {
        "id": "4iFLL8lcxnnh",
        "colab_type": "code",
        "colab": {
          "base_uri": "https://localhost:8080/",
          "height": 35
        },
        "outputId": "d8ebf3d0-8d61-4755-b10f-5b5331a6673a"
      },
      "source": [
        "type(1.0)"
      ],
      "execution_count": 12,
      "outputs": [
        {
          "output_type": "execute_result",
          "data": {
            "text/plain": [
              "float"
            ]
          },
          "metadata": {
            "tags": []
          },
          "execution_count": 12
        }
      ]
    },
    {
      "cell_type": "code",
      "metadata": {
        "id": "mB1Nfk_fxosh",
        "colab_type": "code",
        "colab": {
          "base_uri": "https://localhost:8080/",
          "height": 35
        },
        "outputId": "b6664093-0d45-47cc-d491-270ca824ece8"
      },
      "source": [
        "type(add_numbers)"
      ],
      "execution_count": 13,
      "outputs": [
        {
          "output_type": "execute_result",
          "data": {
            "text/plain": [
              "function"
            ]
          },
          "metadata": {
            "tags": []
          },
          "execution_count": 13
        }
      ]
    },
    {
      "cell_type": "markdown",
      "metadata": {
        "id": "XshoIAgex3rT",
        "colab_type": "text"
      },
      "source": [
        "함수를 참조할수도 있고 함수타입도 존재한다.\n",
        "\n",
        "입력된 객체들은 각자 속성을 지니고 있고,\n",
        "\n",
        "이 속성들은 데이터일 수도, 함수일 수도 있다.\n",
        "\n",
        "파이선으로 제작된 많은것들은 여러가지 타입의 \n",
        "\n",
        "시퀀스나 콜렉션으로 만들어져 있는데\n",
        "\n",
        "파이선은 튜플, 리스트, 딕셔너리라는 고유의 콜렉션을 세개 가지고 있다.\n",
        "\n"
      ]
    },
    {
      "cell_type": "code",
      "metadata": {
        "id": "wQbvWg_fxrMp",
        "colab_type": "code",
        "colab": {
          "base_uri": "https://localhost:8080/",
          "height": 35
        },
        "outputId": "d977161c-5017-4cca-9098-072c4009acf6"
      },
      "source": [
        "x = (1, 'a', 2, 'b')\n",
        "type(x)"
      ],
      "execution_count": 14,
      "outputs": [
        {
          "output_type": "execute_result",
          "data": {
            "text/plain": [
              "tuple"
            ]
          },
          "metadata": {
            "tags": []
          },
          "execution_count": 14
        }
      ]
    },
    {
      "cell_type": "markdown",
      "metadata": {
        "id": "3gWsKw-vzbG8",
        "colab_type": "text"
      },
      "source": [
        "튜플은 한번 생성된 후에는 변형될 수 없다.\n",
        "\n",
        "소괄호를 사용해서 튜플을 작성할 수 있고 \n",
        "\n",
        "여러타입을 혼용해서 튜플을 만들 수도 있다."
      ]
    },
    {
      "cell_type": "code",
      "metadata": {
        "id": "nsDS_yxBylDk",
        "colab_type": "code",
        "colab": {
          "base_uri": "https://localhost:8080/",
          "height": 35
        },
        "outputId": "9b85f1b4-168b-4483-bcfa-730f44fb07c2"
      },
      "source": [
        "x = [1,'a',2,'b']\n",
        "type(x)"
      ],
      "execution_count": 15,
      "outputs": [
        {
          "output_type": "execute_result",
          "data": {
            "text/plain": [
              "list"
            ]
          },
          "metadata": {
            "tags": []
          },
          "execution_count": 15
        }
      ]
    },
    {
      "cell_type": "markdown",
      "metadata": {
        "id": "8pFaPrwhzqP1",
        "colab_type": "text"
      },
      "source": [
        "리스트는 길이를 조절하거나, \n",
        "\n",
        "원소의 개수나 값을 변경하는것이 가능하다.\n",
        "\n",
        "대괄호를 사용해서 리스트를 작성할 수 있고\n",
        "\n",
        "여러타입을 혼용해서 만들 수도 있다"
      ]
    },
    {
      "cell_type": "code",
      "metadata": {
        "id": "enXXf4ex0E0p",
        "colab_type": "code",
        "colab": {
          "base_uri": "https://localhost:8080/",
          "height": 35
        },
        "outputId": "24d6934f-7781-40c1-b361-771fc13ad353"
      },
      "source": [
        "x.append(3.3)\n",
        "print(x)"
      ],
      "execution_count": 16,
      "outputs": [
        {
          "output_type": "stream",
          "text": [
            "[1, 'a', 2, 'b', 3.3]\n"
          ],
          "name": "stdout"
        }
      ]
    },
    {
      "cell_type": "code",
      "metadata": {
        "id": "ptO2QqPV0I-C",
        "colab_type": "code",
        "colab": {
          "base_uri": "https://localhost:8080/",
          "height": 108
        },
        "outputId": "efa744ae-ef51-4ac7-d2db-f9627310c387"
      },
      "source": [
        "for item in x:\n",
        "  print(item)"
      ],
      "execution_count": 17,
      "outputs": [
        {
          "output_type": "stream",
          "text": [
            "1\n",
            "a\n",
            "2\n",
            "b\n",
            "3.3\n"
          ],
          "name": "stdout"
        }
      ]
    },
    {
      "cell_type": "markdown",
      "metadata": {
        "id": "OR5JjgB80nz7",
        "colab_type": "text"
      },
      "source": [
        "출력할때 형식의 지정이 필요하지 않다"
      ]
    },
    {
      "cell_type": "code",
      "metadata": {
        "id": "e7TaE_Cc0Mfh",
        "colab_type": "code",
        "colab": {
          "base_uri": "https://localhost:8080/",
          "height": 108
        },
        "outputId": "966964bb-2f29-41e0-9859-dfa1eb3c7ca7"
      },
      "source": [
        " i  = 0\n",
        " while( i != len(x)):\n",
        "   print(x[i])\n",
        "   i = i + 1"
      ],
      "execution_count": 18,
      "outputs": [
        {
          "output_type": "stream",
          "text": [
            "1\n",
            "a\n",
            "2\n",
            "b\n",
            "3.3\n"
          ],
          "name": "stdout"
        }
      ]
    },
    {
      "cell_type": "markdown",
      "metadata": {
        "id": "RxDoKvAL00R0",
        "colab_type": "text"
      },
      "source": [
        "리스트와 튜플들은 다른 언어의 어레이와 같이\n",
        "\n",
        "인덱싱연산자라 불리는 대괄호 연산자로 접근할 수도 있다"
      ]
    },
    {
      "cell_type": "markdown",
      "metadata": {
        "id": "ZL0X-ruc1JFx",
        "colab_type": "text"
      },
      "source": [
        "파이썬은 간단한 수학적 연산도 허용한다"
      ]
    },
    {
      "cell_type": "code",
      "metadata": {
        "id": "0LIde_kE1D77",
        "colab_type": "code",
        "colab": {
          "base_uri": "https://localhost:8080/",
          "height": 35
        },
        "outputId": "1ae14652-f91d-4e8c-c197-e96d18672ad2"
      },
      "source": [
        "[1,2]+[3,4]"
      ],
      "execution_count": 19,
      "outputs": [
        {
          "output_type": "execute_result",
          "data": {
            "text/plain": [
              "[1, 2, 3, 4]"
            ]
          },
          "metadata": {
            "tags": []
          },
          "execution_count": 19
        }
      ]
    },
    {
      "cell_type": "markdown",
      "metadata": {
        "id": "BoSu0XkG1RbG",
        "colab_type": "text"
      },
      "source": [
        "+를 통해 리스트를 이어 붙일 수 있고"
      ]
    },
    {
      "cell_type": "code",
      "metadata": {
        "id": "NO59mK-e1OEy",
        "colab_type": "code",
        "colab": {
          "base_uri": "https://localhost:8080/",
          "height": 35
        },
        "outputId": "d82ce76d-9552-4187-db86-f82c64879dd3"
      },
      "source": [
        "[1] * 3"
      ],
      "execution_count": 20,
      "outputs": [
        {
          "output_type": "execute_result",
          "data": {
            "text/plain": [
              "[1, 1, 1]"
            ]
          },
          "metadata": {
            "tags": []
          },
          "execution_count": 20
        }
      ]
    },
    {
      "cell_type": "markdown",
      "metadata": {
        "id": "Yyw5NxnG1XWR",
        "colab_type": "text"
      },
      "source": [
        "\\* 를통해 리스트의 값들을 반복시킬 수도 있다"
      ]
    },
    {
      "cell_type": "code",
      "metadata": {
        "id": "ff4wQkDq1hQa",
        "colab_type": "code",
        "colab": {
          "base_uri": "https://localhost:8080/",
          "height": 35
        },
        "outputId": "9e5be138-f2c1-4daf-ebe2-a009a9e65508"
      },
      "source": [
        "1 in [1,2,3]"
      ],
      "execution_count": 22,
      "outputs": [
        {
          "output_type": "execute_result",
          "data": {
            "text/plain": [
              "True"
            ]
          },
          "metadata": {
            "tags": []
          },
          "execution_count": 22
        }
      ]
    },
    {
      "cell_type": "markdown",
      "metadata": {
        "id": "D_HaXnA91ol4",
        "colab_type": "text"
      },
      "source": [
        "in 연산자는 세트 안의 멤버를 찾아본 뒤 참 거짓 값을 불린으로 리턴한다."
      ]
    },
    {
      "cell_type": "code",
      "metadata": {
        "id": "Kwfu_2ds2Qvs",
        "colab_type": "code",
        "colab": {
          "base_uri": "https://localhost:8080/",
          "height": 71
        },
        "outputId": "8449d641-d44c-4324-a246-defa36b9df85"
      },
      "source": [
        "x = 'This is a string'\n",
        "print(x[0])\n",
        "print(x[0:1])\n",
        "print(x[0:2])"
      ],
      "execution_count": 23,
      "outputs": [
        {
          "output_type": "stream",
          "text": [
            "T\n",
            "T\n",
            "Th\n"
          ],
          "name": "stdout"
        }
      ]
    },
    {
      "cell_type": "markdown",
      "metadata": {
        "id": "34k2lq1d2REO",
        "colab_type": "text"
      },
      "source": [
        "파이선에서 인덱싱연산자는 여러개의 값을 입력할 수 있게 해준다\n",
        "\n",
        "첫번째 변수는 시작점이고 두번째 변수는 슬라이스의 끝이다\n",
        "\n",
        "파이선의 모든 문자열은 문자들의 리스트들이기에 슬라이싱을 사용하기 매우좋다"
      ]
    },
    {
      "cell_type": "code",
      "metadata": {
        "id": "jej4TKAy2vmV",
        "colab_type": "code",
        "colab": {
          "base_uri": "https://localhost:8080/",
          "height": 35
        },
        "outputId": "7ef719c2-38c5-45cc-9c78-8bfd6b14732d"
      },
      "source": [
        "x[-1]"
      ],
      "execution_count": 24,
      "outputs": [
        {
          "output_type": "execute_result",
          "data": {
            "text/plain": [
              "'g'"
            ]
          },
          "metadata": {
            "tags": []
          },
          "execution_count": 24
        }
      ]
    },
    {
      "cell_type": "markdown",
      "metadata": {
        "id": "VwbygZ9G2x6e",
        "colab_type": "text"
      },
      "source": [
        "-1을 넣어주면 마지막 문자를 리턴한다"
      ]
    },
    {
      "cell_type": "code",
      "metadata": {
        "id": "zpFPb51m22bZ",
        "colab_type": "code",
        "colab": {
          "base_uri": "https://localhost:8080/",
          "height": 35
        },
        "outputId": "2835a4ea-94c8-437a-b017-9abd4c3b40bd"
      },
      "source": [
        "x[-4:-2]"
      ],
      "execution_count": 26,
      "outputs": [
        {
          "output_type": "execute_result",
          "data": {
            "text/plain": [
              "'ri'"
            ]
          },
          "metadata": {
            "tags": []
          },
          "execution_count": 26
        }
      ]
    },
    {
      "cell_type": "markdown",
      "metadata": {
        "id": "wWoYItdY28Ab",
        "colab_type": "text"
      },
      "source": [
        "뒤에서 4번째부터 뒤에서 2번째까지의 문자를 리턴한다"
      ]
    },
    {
      "cell_type": "code",
      "metadata": {
        "id": "ldW1a4iM3b26",
        "colab_type": "code",
        "colab": {
          "base_uri": "https://localhost:8080/",
          "height": 35
        },
        "outputId": "35440a7f-f064-4176-c715-156129553928"
      },
      "source": [
        "x[:3]"
      ],
      "execution_count": 27,
      "outputs": [
        {
          "output_type": "execute_result",
          "data": {
            "text/plain": [
              "'Thi'"
            ]
          },
          "metadata": {
            "tags": []
          },
          "execution_count": 27
        }
      ]
    },
    {
      "cell_type": "markdown",
      "metadata": {
        "id": "QWbzaQk63h2T",
        "colab_type": "text"
      },
      "source": [
        "첫번째 변수를 생략할 수 있다\n",
        "이렇게 입력하면 첫번째 문자부터 세번째문자 까지를 리턴한다"
      ]
    },
    {
      "cell_type": "code",
      "metadata": {
        "id": "2s7PKw0U38US",
        "colab_type": "code",
        "colab": {
          "base_uri": "https://localhost:8080/",
          "height": 71
        },
        "outputId": "f00f1bd4-aba9-4ef2-bb30-555530392c93"
      },
      "source": [
        "firstname='han'\n",
        "lastname='ji'\n",
        "\n",
        "print(firstname + ' ' + lastname)\n",
        "print(firstname * 3)\n",
        "print('han' in firstname)"
      ],
      "execution_count": 29,
      "outputs": [
        {
          "output_type": "stream",
          "text": [
            "han ji\n",
            "hanhanhan\n",
            "True\n"
          ],
          "name": "stdout"
        }
      ]
    },
    {
      "cell_type": "markdown",
      "metadata": {
        "id": "gUUN23bb39Jr",
        "colab_type": "text"
      },
      "source": [
        "리스트, 튜플, range, 문자열처럼 \n",
        "\n",
        "반복이 허용되고 순서가 있는 데이터의 연속을 시퀀스타입이라고 부르고\n",
        "\n",
        "in연산자, +연산자, \\*연산자 라는 공통된 동작과 기능을 제공한다.\n",
        "\n"
      ]
    },
    {
      "cell_type": "code",
      "metadata": {
        "id": "z4ZybJaV5TpS",
        "colab_type": "code",
        "colab": {
          "base_uri": "https://localhost:8080/",
          "height": 35
        },
        "outputId": "a9f66dec-4c58-42fb-8814-4fb4815f4721"
      },
      "source": [
        "name = 'han ji hun'\n",
        "a = name.split(' ')\n",
        "print(a)"
      ],
      "execution_count": 30,
      "outputs": [
        {
          "output_type": "stream",
          "text": [
            "['han', 'ji', 'hun']\n"
          ],
          "name": "stdout"
        }
      ]
    },
    {
      "cell_type": "markdown",
      "metadata": {
        "id": "MwTgu6F25fbq",
        "colab_type": "text"
      },
      "source": [
        "string에는 간단한 패턴으로 리스트로 만들 수 있는 함수 split이 있다."
      ]
    },
    {
      "cell_type": "code",
      "metadata": {
        "id": "mHhWtj3O6Saj",
        "colab_type": "code",
        "colab": {
          "base_uri": "https://localhost:8080/",
          "height": 35
        },
        "outputId": "787948c5-95db-424f-9e38-6f210b01fd4a"
      },
      "source": [
        "x = {'hanjihun':'human', 'hanji':'pyenboongyee'}\n",
        "x['hanjihun']"
      ],
      "execution_count": 39,
      "outputs": [
        {
          "output_type": "execute_result",
          "data": {
            "text/plain": [
              "'human'"
            ]
          },
          "metadata": {
            "tags": []
          },
          "execution_count": 39
        }
      ]
    },
    {
      "cell_type": "markdown",
      "metadata": {
        "id": "RIigLvt05w-j",
        "colab_type": "text"
      },
      "source": [
        "딕셔너리\n",
        "\n",
        "딕셔너리는 리스트와 튜플과 유사하지만 순서가 없다\n",
        "\n",
        "딕셔너리에 입력되는 모든값은 키를 부여해야 값을 불러올 수 있다\n"
      ]
    },
    {
      "cell_type": "code",
      "metadata": {
        "id": "cYQMqD2S7usD",
        "colab_type": "code",
        "colab": {}
      },
      "source": [
        "x['jihun'] = None\n",
        "x['jihun']"
      ],
      "execution_count": 0,
      "outputs": []
    },
    {
      "cell_type": "markdown",
      "metadata": {
        "id": "9HnpbDDu7_FL",
        "colab_type": "text"
      },
      "source": [
        "값을 추가하면 기존 딕셔너리의 좌측에 생긴다"
      ]
    },
    {
      "cell_type": "code",
      "metadata": {
        "id": "73HoQC_F6iwa",
        "colab_type": "code",
        "colab": {
          "base_uri": "https://localhost:8080/",
          "height": 71
        },
        "outputId": "515be11b-41d8-430e-8dc8-f20ff2224d3b"
      },
      "source": [
        "for name in x:\n",
        "  print(x[name])"
      ],
      "execution_count": 43,
      "outputs": [
        {
          "output_type": "stream",
          "text": [
            "human\n",
            "pyenboongyee\n",
            "None\n"
          ],
          "name": "stdout"
        }
      ]
    },
    {
      "cell_type": "code",
      "metadata": {
        "id": "j_bqGDJP6zhy",
        "colab_type": "code",
        "colab": {
          "base_uri": "https://localhost:8080/",
          "height": 71
        },
        "outputId": "305a9783-ccb6-4abf-dab2-85ba97f58019"
      },
      "source": [
        "for identity in x.values():\n",
        "  print(identity)"
      ],
      "execution_count": 44,
      "outputs": [
        {
          "output_type": "stream",
          "text": [
            "human\n",
            "pyenboongyee\n",
            "None\n"
          ],
          "name": "stdout"
        }
      ]
    },
    {
      "cell_type": "code",
      "metadata": {
        "id": "O_r-mgdv8b7z",
        "colab_type": "code",
        "colab": {
          "base_uri": "https://localhost:8080/",
          "height": 71
        },
        "outputId": "25460d59-a40e-4b01-91a9-04971a904039"
      },
      "source": [
        "for name, identity in x.items():\n",
        "  print(name, identity)"
      ],
      "execution_count": 45,
      "outputs": [
        {
          "output_type": "stream",
          "text": [
            "hanjihun human\n",
            "hanji pyenboongyee\n",
            "jihun None\n"
          ],
          "name": "stdout"
        }
      ]
    },
    {
      "cell_type": "markdown",
      "metadata": {
        "id": "TgfsuODw8Ksj",
        "colab_type": "text"
      },
      "source": [
        "딕셔너리의 아이템을 반복하는 방법은\n",
        "\n",
        "키로 반복할수있고 \n",
        "\n",
        "키를 무시하고 값만으로 반복할 수 있다\n",
        "\n",
        "items() 함수로 둘다 반복할 수도 있다"
      ]
    },
    {
      "cell_type": "code",
      "metadata": {
        "id": "I4jFCy765_1y",
        "colab_type": "code",
        "colab": {}
      },
      "source": [
        "x = ('hanji', 'pyenboongyee', 'male')\n",
        "name, job, gender = x"
      ],
      "execution_count": 0,
      "outputs": []
    },
    {
      "cell_type": "code",
      "metadata": {
        "id": "9HIxTcRy-RKr",
        "colab_type": "code",
        "colab": {
          "base_uri": "https://localhost:8080/",
          "height": 35
        },
        "outputId": "b42960c0-6dcb-4dbe-d7d3-35c0565f1440"
      },
      "source": [
        "name"
      ],
      "execution_count": 48,
      "outputs": [
        {
          "output_type": "execute_result",
          "data": {
            "text/plain": [
              "'hanji'"
            ]
          },
          "metadata": {
            "tags": []
          },
          "execution_count": 48
        }
      ]
    },
    {
      "cell_type": "code",
      "metadata": {
        "id": "oSQGgvz2-SqD",
        "colab_type": "code",
        "colab": {
          "base_uri": "https://localhost:8080/",
          "height": 35
        },
        "outputId": "18315ee8-b73d-40f6-d30d-37ffbc8f6595"
      },
      "source": [
        "job"
      ],
      "execution_count": 49,
      "outputs": [
        {
          "output_type": "execute_result",
          "data": {
            "text/plain": [
              "'pyenboongyee'"
            ]
          },
          "metadata": {
            "tags": []
          },
          "execution_count": 49
        }
      ]
    },
    {
      "cell_type": "code",
      "metadata": {
        "id": "SAz9zxMN-TC8",
        "colab_type": "code",
        "colab": {
          "base_uri": "https://localhost:8080/",
          "height": 35
        },
        "outputId": "ac36b08d-7956-4c09-aa51-ae9b9c934769"
      },
      "source": [
        "gender"
      ],
      "execution_count": 50,
      "outputs": [
        {
          "output_type": "execute_result",
          "data": {
            "text/plain": [
              "'male'"
            ]
          },
          "metadata": {
            "tags": []
          },
          "execution_count": 50
        }
      ]
    },
    {
      "cell_type": "code",
      "metadata": {
        "id": "ECSj6NDV-Tt7",
        "colab_type": "code",
        "colab": {}
      },
      "source": [
        ""
      ],
      "execution_count": 0,
      "outputs": []
    },
    {
      "cell_type": "markdown",
      "metadata": {
        "id": "HjFMHtIo8-8q",
        "colab_type": "text"
      },
      "source": [
        "파이선에서 순서가 있는 시퀀스타입은 언패킹할 수 있다\n"
      ]
    },
    {
      "cell_type": "markdown",
      "metadata": {
        "id": "nWqe_Cgl-HXb",
        "colab_type": "text"
      },
      "source": [
        "지금까지 파이선 내장타입들에 대한 개요이고\n",
        "\n",
        "다음시간에는 문자열을 조금 더 다뤄본 뒤\n",
        "\n",
        "\n",
        "데이터 파일을 다뤄본다"
      ]
    }
  ]
}